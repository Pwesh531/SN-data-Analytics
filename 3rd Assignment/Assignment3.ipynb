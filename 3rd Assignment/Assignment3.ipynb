{
  "nbformat": 4,
  "nbformat_minor": 0,
  "metadata": {
    "colab": {
      "name": "Assignment3.ipynb",
      "provenance": [],
      "collapsed_sections": []
    },
    "kernelspec": {
      "name": "python3",
      "display_name": "Python 3"
    },
    "language_info": {
      "name": "python"
    }
  },
  "cells": [
    {
      "cell_type": "markdown",
      "metadata": {
        "id": "XW96xY39Z-yf"
      },
      "source": [
        " # **15 Types of String Methods in Use**\n"
      ]
    },
    {
      "cell_type": "markdown",
      "metadata": {
        "id": "kq7Dw25SagKy"
      },
      "source": [
        "1. **str.find()**: It returns the a positive index position of a substring in a larger string if the substring exists within a string. However, if the particular substring is not found, -1 is returned. It also case-sensitive\n",
        "\n",
        "  **Use case** - This is applie to search for a particular word or letter in a sentence. \n",
        "\n",
        "\n"
      ]
    },
    {
      "cell_type": "code",
      "metadata": {
        "colab": {
          "base_uri": "https://localhost:8080/"
        },
        "id": "2-8XITR1boFq",
        "outputId": "308fd4ba-0c9e-4fa7-c444-913150d700d2"
      },
      "source": [
        "#**Code block:**\n",
        "Internship = \"Data Analytics\"\n",
        "print(Internship.find(\"A\"))\n",
        "print(Internship.find(\"a\", 3))"
      ],
      "execution_count": 1,
      "outputs": [
        {
          "output_type": "stream",
          "text": [
            "5\n",
            "3\n"
          ],
          "name": "stdout"
        }
      ]
    },
    {
      "cell_type": "markdown",
      "metadata": {
        "id": "tRKtUMfXd4jr"
      },
      "source": [
        "2. **str.startswith():** It returns a boolean value True if a substring is found  at the beginning of a string. It is also case-sensitive. \n",
        "\n",
        "    **Use case**- This is applied to confirm the first letters or group of first letters of a string."
      ]
    },
    {
      "cell_type": "code",
      "metadata": {
        "colab": {
          "base_uri": "https://localhost:8080/"
        },
        "id": "U3l5CmwCeg_-",
        "outputId": "dd6dcf54-82d7-4fe7-f4e3-a975bd76e895"
      },
      "source": [
        "# Code block:\n",
        "My_name = \"Pweshius_uchechukwu\"\n",
        "print(My_name.startswith(\"P\"))\n",
        "print(My_name.startswith(\"p\"))"
      ],
      "execution_count": null,
      "outputs": [
        {
          "output_type": "stream",
          "text": [
            "True\n",
            "False\n"
          ],
          "name": "stdout"
        }
      ]
    },
    {
      "cell_type": "markdown",
      "metadata": {
        "id": "i7tldOSCkZ7Y"
      },
      "source": [
        "3. **str.endswith()**: It checks if a substring is found at the end of the larger string and returns True if found and vice versa.\n",
        "   \n",
        "   **Use case-**This is applied to confirm the last letters or group of last letters of a string.\n",
        "   "
      ]
    },
    {
      "cell_type": "code",
      "metadata": {
        "colab": {
          "base_uri": "https://localhost:8080/"
        },
        "id": "tJrSs2IClFUr",
        "outputId": "d4233a31-5388-4a79-f6c9-8ed4446c044f"
      },
      "source": [
        "My_name= \"Pweshiusuchechukwu\"\n",
        "print(My_name.endswith(\"u\"))\n",
        "print(My_name.endswith(\"wu\"))\n",
        "print(My_name.endswith(\"z\"))\n",
        "print(My_name.endswith(\"U\"))"
      ],
      "execution_count": null,
      "outputs": [
        {
          "output_type": "stream",
          "text": [
            "True\n",
            "True\n",
            "False\n",
            "False\n"
          ],
          "name": "stdout"
        }
      ]
    },
    {
      "cell_type": "markdown",
      "metadata": {
        "id": "Zh47xWvVzGcC"
      },
      "source": [
        "4. **str.count()**: It returns an integer that represents the number of times a substring occurs in a larger string.\n",
        "\n",
        "   **Use case**:This is used to count the number of substrings to be passed into the method"
      ]
    },
    {
      "cell_type": "code",
      "metadata": {
        "colab": {
          "base_uri": "https://localhost:8080/"
        },
        "id": "LZCbY3I3zvq3",
        "outputId": "3ce3006a-53e1-462d-bebb-70e8d730736e"
      },
      "source": [
        "#Code block:\n",
        "check = \"Uchechukwu\"\n",
        "print(check.count(\"u\"))\n",
        "print(check.count(\"h\"))"
      ],
      "execution_count": 3,
      "outputs": [
        {
          "output_type": "stream",
          "text": [
            "2\n",
            "2\n"
          ],
          "name": "stdout"
        }
      ]
    },
    {
      "cell_type": "markdown",
      "metadata": {
        "id": "SVcF05g90Oun"
      },
      "source": [
        "5. **str.capitalize**:It returns a new string with the first character of the original string capitalized.\n",
        "\n",
        "   **Use case**: This is used to capitalize just the first letter of an input by a user"
      ]
    },
    {
      "cell_type": "code",
      "metadata": {
        "colab": {
          "base_uri": "https://localhost:8080/"
        },
        "id": "iKUO631n1L8z",
        "outputId": "3d33482d-3649-4d7a-e2ca-a0e70f11772a"
      },
      "source": [
        "# Code block\n",
        "name= \"uchechi\"\n",
        "print(name.capitalize())"
      ],
      "execution_count": 4,
      "outputs": [
        {
          "output_type": "stream",
          "text": [
            "Uchechi\n"
          ],
          "name": "stdout"
        }
      ]
    },
    {
      "cell_type": "markdown",
      "metadata": {
        "id": "S8XbMbXv4lRC"
      },
      "source": [
        "6. **str.title()**: This capitalizes the first character of each word in a string.\n",
        "  \n",
        "   **Use case**: This could be applied in a code to convert a group of strings to title case."
      ]
    },
    {
      "cell_type": "code",
      "metadata": {
        "colab": {
          "base_uri": "https://localhost:8080/"
        },
        "id": "I4H4hqjO53Lc",
        "outputId": "88a4296f-c84d-4561-aa6b-b475815b542a"
      },
      "source": [
        "#Code block\n",
        "course= \"scholarnuture internship on data analytics\"\n",
        "print(course.title())"
      ],
      "execution_count": 5,
      "outputs": [
        {
          "output_type": "stream",
          "text": [
            "Scholarnuture Internship On Data Analytics\n"
          ],
          "name": "stdout"
        }
      ]
    },
    {
      "cell_type": "markdown",
      "metadata": {
        "id": "mq61Bc9M6eSa"
      },
      "source": [
        "7. **str.upper()**: This capitalizes all the characters of a string\n",
        "\n",
        "   **Use case**: The inputs typed in a code can be converted into upper case inorder to make its usage easier later on in the code"
      ]
    },
    {
      "cell_type": "code",
      "metadata": {
        "colab": {
          "base_uri": "https://localhost:8080/"
        },
        "id": "EE3s8Edx7ePB",
        "outputId": "8e6600d3-669f-49f4-c0cd-b4c6e48162fc"
      },
      "source": [
        "#Code block:\n",
        "My_name= \"Uchechi Ukaegbu\"\n",
        "print(My_name.upper())"
      ],
      "execution_count": 6,
      "outputs": [
        {
          "output_type": "stream",
          "text": [
            "UCHECHI UKAEGBU\n"
          ],
          "name": "stdout"
        }
      ]
    },
    {
      "cell_type": "markdown",
      "metadata": {
        "id": "7YsXLrIn72TM"
      },
      "source": [
        "8. **str.lower()**: This changes all the characters of a string to lower case\n",
        "\n",
        "   **Use case**: The inputs typed in a code can be converted into lower case inorder to make its usage easier later on in the code"
      ]
    },
    {
      "cell_type": "code",
      "metadata": {
        "colab": {
          "base_uri": "https://localhost:8080/"
        },
        "id": "YCA8EYn48UJk",
        "outputId": "6a582475-6e27-4e73-86ca-bcee1494aa88"
      },
      "source": [
        "#Code block:\n",
        "My_name= \"PRECIOUS\"\n",
        "print(My_name.lower())\n"
      ],
      "execution_count": 7,
      "outputs": [
        {
          "output_type": "stream",
          "text": [
            "precious\n"
          ],
          "name": "stdout"
        }
      ]
    },
    {
      "cell_type": "markdown",
      "metadata": {
        "id": "J8ns2kKH8yNz"
      },
      "source": [
        "9. **str.swapcase()**: This returns a new string where the cases of all th characters are inverted or reversed. Hence all upper case would be converted to lower case and vice versa.\n",
        "\n",
        "   **Use case**: In a situation where the cases of input by a user is wrong due to a the cap locks being mistakenly enabled, the swapcase method can be used to change the case"
      ]
    },
    {
      "cell_type": "code",
      "metadata": {
        "colab": {
          "base_uri": "https://localhost:8080/"
        },
        "id": "GqO0i9Vl-VPP",
        "outputId": "13858329-6f87-473b-a1c2-7c65e5056635"
      },
      "source": [
        "#Code block\n",
        "Details= input(\"Please type in your name: \")\n",
        "print(Details.swapcase())"
      ],
      "execution_count": 8,
      "outputs": [
        {
          "output_type": "stream",
          "text": [
            "Please type in your name: uCHECHI uKAEGBU\n",
            "Uchechi Ukaegbu\n"
          ],
          "name": "stdout"
        }
      ]
    },
    {
      "cell_type": "markdown",
      "metadata": {
        "id": "5r63U5YE_dNm"
      },
      "source": [
        "10. **str.islower()**: This relates to the structure, contect or casing of a string. It returns True if all the characters of a string are lower case and False if any of the character isn't a lower case.\n",
        "\n",
        "  **Use case**: This could be applied in a user input code where just lower case characters are required hence this method is used to confirm so."
      ]
    },
    {
      "cell_type": "code",
      "metadata": {
        "colab": {
          "base_uri": "https://localhost:8080/"
        },
        "id": "yqqggvxvAxiQ",
        "outputId": "fef07e33-c652-4719-9801-11dc3331aa69"
      },
      "source": [
        "#Code block:\n",
        "Details= input(\"Please type in your name: \")\n",
        "if Details.islower():\n",
        "  print(Details)\n",
        "else:\n",
        "  print(\"Please only lower case letters is required\")"
      ],
      "execution_count": 11,
      "outputs": [
        {
          "output_type": "stream",
          "text": [
            "Please type in your name: KOUSE\n",
            "Please only lower case letters is required\n"
          ],
          "name": "stdout"
        }
      ]
    },
    {
      "cell_type": "markdown",
      "metadata": {
        "id": "FOZd8N6WDW0j"
      },
      "source": [
        "11. **str.isupper()**:This also relates to the structure, contect or casing of a string. It returns True if all the characters of a string are upper case and False if any of the character isn't a upper case.\n",
        "\n",
        "   **Use case**: This could be applied in a user input code where just upper case characters are required hence this method is used to confirm so."
      ]
    },
    {
      "cell_type": "code",
      "metadata": {
        "colab": {
          "base_uri": "https://localhost:8080/"
        },
        "id": "-eqKgIz3ELOQ",
        "outputId": "14423466-ef7f-40a5-cea2-fbfeb6d67dd7"
      },
      "source": [
        "#Code block:\n",
        "Details= input(\"Please type in your name: \")\n",
        "if Details.isupper():\n",
        "  print(Details)\n",
        "else:\n",
        "  print(\"Please only upper case letters is required\")"
      ],
      "execution_count": 13,
      "outputs": [
        {
          "output_type": "stream",
          "text": [
            "Please type in your name: uche\n",
            "Please only upper case letters is required\n"
          ],
          "name": "stdout"
        }
      ]
    },
    {
      "cell_type": "markdown",
      "metadata": {
        "id": "YjpPFUusEsIb"
      },
      "source": [
        "12. **str.isnumeric()**: It returns a boolean value of True if all the characters of a string are numbers and False if any of the characters is not a number.\n",
        " \n",
        "    **Use case**: This could be applied in a user input code where only numbers are required hence this method is used to confirm so."
      ]
    },
    {
      "cell_type": "code",
      "metadata": {
        "colab": {
          "base_uri": "https://localhost:8080/"
        },
        "id": "b6b-oCwfHrCn",
        "outputId": "6816208a-3681-4cc6-b273-a5a03ccb7f22"
      },
      "source": [
        "# Code Block\n",
        "Phone_number= input(\"Please type in your mobile number: \")\n",
        "if Phone_number.isnumeric():\n",
        "  print(Phone_number)\n",
        "else:\n",
        "  print(\"Please enter a valid phone number\")"
      ],
      "execution_count": 14,
      "outputs": [
        {
          "output_type": "stream",
          "text": [
            "Please type in your mobile number: erfs\n",
            "Please enter a valid phone number\n"
          ],
          "name": "stdout"
        }
      ]
    },
    {
      "cell_type": "markdown",
      "metadata": {
        "id": "6x7sRiVaJ31-"
      },
      "source": [
        "13. **str.rstrip()**: It strips the right side of a string of any extra spaces or remove characters at the end of a string\n",
        "\n",
        "    **Use case**: This is used to remove unwanted spaces at the right side or end of a string."
      ]
    },
    {
      "cell_type": "code",
      "metadata": {
        "colab": {
          "base_uri": "https://localhost:8080/"
        },
        "id": "YEpz9vtnKu0C",
        "outputId": "288ae87c-a157-4fde-96a3-9f361ff58887"
      },
      "source": [
        "#Code block:\n",
        "My_story= \"I can do all things through Christ who strengthens me            \"\n",
        "My_name= \"Uchechi\"\n",
        "print(My_story.rstrip())\n",
        "print(My_name.rstrip(\"chi\"))"
      ],
      "execution_count": 18,
      "outputs": [
        {
          "output_type": "stream",
          "text": [
            "I can do all things through Christ who strengthens me\n",
            "Uche\n"
          ],
          "name": "stdout"
        }
      ]
    },
    {
      "cell_type": "markdown",
      "metadata": {
        "id": "ie3aqpliLVWz"
      },
      "source": [
        "14. **str.strip()**: This is used to remove extra spaces or characters at the beginning or end of a string.\n",
        "\n",
        "    **Use case**: This can be applied to remove unwanted texts or space in a sentence."
      ]
    },
    {
      "cell_type": "code",
      "metadata": {
        "colab": {
          "base_uri": "https://localhost:8080/"
        },
        "id": "Dg3f_Im5MgAk",
        "outputId": "fc1d0d70-7220-4d44-f7dc-a43e57bced01"
      },
      "source": [
        "#Code block:\n",
        "website1= \"     www.python.org      \"\n",
        "website2= \"www.gmail.com\"\n",
        "print(website1.strip())\n",
        "print(website2.strip(\"w\"))"
      ],
      "execution_count": 20,
      "outputs": [
        {
          "output_type": "stream",
          "text": [
            "www.python.org\n",
            ".gmail.com\n"
          ],
          "name": "stdout"
        }
      ]
    },
    {
      "cell_type": "markdown",
      "metadata": {
        "id": "T4LjRRluNwr_"
      },
      "source": [
        "15. **str.replace()**: It replaces all occurences of a substring with a string. It accepts two arguments.\n",
        "\n",
        "    **Use case**: This can be applied in making correction to a string in a code"
      ]
    },
    {
      "cell_type": "code",
      "metadata": {
        "colab": {
          "base_uri": "https://localhost:8080/"
        },
        "id": "E0yKzT8xOoce",
        "outputId": "a3b8e691-4a9a-46fd-c533-4b06af124e71"
      },
      "source": [
        "#Code cell:\n",
        "Phone_number= \"07031277740\"\n",
        "print(Phone_number.replace(\"7\", \"3\"))"
      ],
      "execution_count": 21,
      "outputs": [
        {
          "output_type": "stream",
          "text": [
            "03031233340\n"
          ],
          "name": "stdout"
        }
      ]
    }
  ]
}