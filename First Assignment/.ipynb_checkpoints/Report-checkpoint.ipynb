{
 "cells": [
  {
   "cell_type": "markdown",
   "metadata": {},
   "source": [
    "# Task 1(Creating a Github Repository)"
   ]
  },
  {
   "cell_type": "markdown",
   "metadata": {},
   "source": [
    "## Installing Git Bash- A tool that would enable one install Git and run Git commands"
   ]
  },
  {
   "cell_type": "markdown",
   "metadata": {},
   "source": [
    "1. Google \"Git Bash Windows\"\n",
    "2. Click the resource that says \"Git for Windows\"\n",
    "3. Click \"Download\" and an executable file  would be downloaded for installing Git Bash\n",
    "4. Open the downloaded executable file and start the installation wizard.\n",
    "5. Click \"Next\"\n",
    "6. Select where you want the file to be installed. It is recommended to go with the default. Then click \"Next\"\n",
    "7. Continue clicking \"Next\" until you get to \"Adjusting your path environment\"\n",
    "8. Check the default option and click \"Next\"\n",
    "9. Check the \"Use openSSL libraary\" option and click \"Next\"\n",
    "10. Check the first option since a windows operating system is being used.\n",
    "11. Continue clicking \"Next\" until you get to the install page where you would cick on \"Install\"\n",
    "12. Check the \"Launch Git Bash\" and click \"Next\" to open the Git Bash command line.\n",
    "13. To check if Git has been properly installed, type in \"git\" on the git bash command line and press \"enter\". It should output a help documentation on how to start using git."
   ]
  },
  {
   "cell_type": "markdown",
   "metadata": {},
   "source": [
    "## Configuring One's Git Profile on the Git Bash Command Line "
   ]
  },
  {
   "cell_type": "markdown",
   "metadata": {},
   "source": [
    "1. To set up one's name, type \"git config --global user.name \"Your name\"\n",
    "2. To set up one's email, type \"git config --global user.email \"Your email address\""
   ]
  },
  {
   "cell_type": "markdown",
   "metadata": {},
   "source": [
    "## Setting up a Github Account"
   ]
  },
  {
   "cell_type": "markdown",
   "metadata": {},
   "source": [
    "1. On your browser, type \"github.com\"\n",
    "2. Click on \"sign up\" if you don't have a github account\n",
    "3. Fill up the required details such as \"username\", \"email address\", \"passwod\", etc.Click on \"Create Account\"\n",
    "4. Verify your email address\n",
    "5. Log in to your github account with your username and password."
   ]
  },
  {
   "cell_type": "markdown",
   "metadata": {},
   "source": [
    "## Creating a Repository"
   ]
  },
  {
   "cell_type": "markdown",
   "metadata": {},
   "source": [
    " 1. Click on the <span style = 'color:green'> green </span> button \"create repository\" on the left hand side. Or from the       drop down menu on the top right corner, click \"new repository\".\n",
    " 2. Fill out the form that comes thereafter by adding the repository name, description, etc.\n",
    " 3. Check the \"initialize this repository with readme\" and click \"create repository\".\n",
    " "
   ]
  },
  {
   "cell_type": "markdown",
   "metadata": {},
   "source": [
    "## Creating a Local Copy of the Repository (Cloning)- This is used to build one's code and    work on one's project while the copy on github would serve as a backup on the cloud"
   ]
  },
  {
   "cell_type": "markdown",
   "metadata": {},
   "source": [
    "1. Click on \"Clone\" at the top right side.\n",
    "2. <span style = 'color:red'>There are two ways to clone a repository - using HTTPS (especially for cloning other people's      repositories or using SSH(especially for cloning one's repository </span>\n",
    "3. <span style = 'color:blue'>To use SSH cloning, one has to link their PC to their github account by : </span>\n",
    "        a) Generating an SSH key\n",
    "        b) Open Git Bash and type in \" ssh-keygen -t rsa -b 4096 -c \"your email address\"\n",
    "        c) You would be prompted to select a directory where it shoud be saved. Accept the default location.\n",
    "        d) Click \"enter\" when asked to enter a passphrase and cleck \"enter to confirm \n",
    "        e) A private and public key would be created.\n",
    "4. <span style = 'color:green'>Add your SSH key to the SSH-agent by:</span>\n",
    "        a) Start the SSH agent by typing  \"eval $(ssh-agent -s)\" on the git bash\n",
    "        b) Add the private key to the ssh-agent by typing 'ssh-add `~/.ssh/\"private key\"' on the bash command.\n",
    "5. Add the SSH key to the github account by:\n",
    "        a) Type \"clip < \"public key\"\" on the git bash to copy the public key.\n",
    "        b) On you github account, click on \"profile\" and select \"settings\".\n",
    "        c) Under \"personal settings\" on the left hand side, select \"SSH and GPG keys\"\n",
    "        d) Click on the geen button \"add new SSH key\"\n",
    "        e) Paste the key into the key field. Also input a title for example \"Personal computer\"\n",
    "        f) Click on \"add SSH key\".\n",
    "6. Under your githun profile, click on \"Your repositories\" and then click on the repository you initially created.\n",
    "7. Click \"clone\". Ensure that the SSH option is selected.\n",
    "8. Copy the URL by clicking on the copy icon\n",
    "9. Go to the Git bash command line and create a directory where you would want the repository to sit.\n",
    "10. Clone the repository by typing \"git clone \"paste the URL\"\" and then press \"enter\".\n",
    "11. Type \"yes\" and press \"enter\" to continue."
   ]
  },
  {
   "cell_type": "markdown",
   "metadata": {},
   "source": [
    "***"
   ]
  },
  {
   "cell_type": "markdown",
   "metadata": {},
   "source": [
    "# Task 2 ( Creating a New Folder in the Repository)"
   ]
  },
  {
   "cell_type": "markdown",
   "metadata": {},
   "source": [
    "1. Navigate to the local repository on your PC aand create a new folder with title as \"First Assignment\".\n",
    "2. Create an empty jupyter notebook and save it in the new folder created."
   ]
  },
  {
   "cell_type": "markdown",
   "metadata": {},
   "source": [
    "***"
   ]
  },
  {
   "cell_type": "markdown",
   "metadata": {},
   "source": [
    "# Task 3( Pushing the folder and empty notebook to your Github Repository)"
   ]
  },
  {
   "cell_type": "markdown",
   "metadata": {},
   "source": [
    "1. On Git Bash , navigate to the directory of your your local repository.\n",
    "2. Type \"git init -b main\" and press \"enter\"\n",
    "3. Type \"git add .\" and press enter.\n",
    "4. Type \"git commit -m \"First commit\"\" and press \"enter\"\n",
    "5. Type \"git remote add origin \"SSH URL\"\" and press \"enter\"\n",
    "6. Type 'git remote -v\" and press \"enter\"\n",
    "7. Type \"git push origin main\" and press \"enter\".\n",
    "\n",
    "Source:https://docs.github.com/en/github/importing-your-projects-to-github/adding-an-existing-project-to-github-using-the-command-line"
   ]
  },
  {
   "cell_type": "markdown",
   "metadata": {},
   "source": [
    "## Problem Encountered\n",
    "1. Error: Remote origin already exists\n",
    "\n",
    "## Solution\n",
    "1. By typing \"git remote remove origin\" on the git bash command line.\n",
    " \n",
    "Source: https://www.datree.io/resources/git-error-fatal-remote-origin-already-exists"
   ]
  }
 ],
 "metadata": {
  "kernelspec": {
   "display_name": "Python 3",
   "language": "python",
   "name": "python3"
  },
  "language_info": {
   "codemirror_mode": {
    "name": "ipython",
    "version": 3
   },
   "file_extension": ".py",
   "mimetype": "text/x-python",
   "name": "python",
   "nbconvert_exporter": "python",
   "pygments_lexer": "ipython3",
   "version": "3.6.2"
  }
 },
 "nbformat": 4,
 "nbformat_minor": 4
}
